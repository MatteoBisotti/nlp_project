{
 "cells": [
  {
   "cell_type": "code",
   "execution_count": 1,
   "id": "1f12c09b",
   "metadata": {},
   "outputs": [],
   "source": [
    "import pandas as pd"
   ]
  },
  {
   "cell_type": "code",
   "execution_count": 2,
   "id": "cc0f77fa",
   "metadata": {},
   "outputs": [
    {
     "data": {
      "application/vnd.microsoft.datawrangler.viewer.v0+json": {
       "columns": [
        {
         "name": "index",
         "rawType": "int64",
         "type": "integer"
        },
        {
         "name": "text",
         "rawType": "object",
         "type": "string"
        },
        {
         "name": "labels",
         "rawType": "int64",
         "type": "integer"
        },
        {
         "name": "id",
         "rawType": "object",
         "type": "string"
        },
        {
         "name": "author",
         "rawType": "object",
         "type": "string"
        },
        {
         "name": "subreddit",
         "rawType": "object",
         "type": "string"
        },
        {
         "name": "created_utc",
         "rawType": "object",
         "type": "string"
        },
        {
         "name": "cluster",
         "rawType": "int64",
         "type": "integer"
        },
        {
         "name": "topic",
         "rawType": "object",
         "type": "string"
        }
       ],
       "conversionMethod": "pd.DataFrame",
       "ref": "084e9d76-9f13-48b5-a0ff-535591cf71a6",
       "rows": [
        [
         "0",
         "My favourite food is anything I didn't have to cook myself.",
         "27",
         "eebbqej",
         "Rockzilla78",
         "KitchenConfidential",
         "2019-01-18",
         "1",
         "other"
        ],
        [
         "1",
         "Now if he does off himself, everyone will think hes having a laugh screwing with people instead of actually dead",
         "27",
         "ed00q6i",
         "cocaineluna",
         "morbidquestions",
         "2019-01-01",
         "0",
         "humor"
        ],
        [
         "2",
         "WHY THE FUCK IS BAYLESS ISOING",
         "2",
         "eezlygj",
         "minnesotagoat_",
         "timberwolves",
         "2019-01-26",
         "2",
         "sport"
        ],
        [
         "3",
         "To make her feel threatened",
         "14",
         "ed7ypvh",
         "AlexNic1013",
         "askwomenadvice",
         "2019-01-04",
         "4",
         "love and relationship"
        ],
        [
         "4",
         "Dirty Southern Wankers",
         "3",
         "ed0bdzj",
         "having_a_nap",
         "london",
         "2019-01-01",
         "1",
         "other"
        ],
        [
         "5",
         "OmG pEyToN iSn'T gOoD eNoUgH tO hElP uS iN tHe PlAyOfFs! Dumbass Broncos fans circa December 2015.",
         "26",
         "edvnz26",
         "kiwirish",
         "DenverBroncos",
         "2019-01-12",
         "2",
         "sport"
        ],
        [
         "6",
         "Yes I heard abt the f bombs! That has to be why. Thanks for your reply:) until then hubby and I will anxiously wait 😝",
         "15",
         "ee3b6wu",
         "astevenson100",
         "90dayfianceuncensored",
         "2019-01-15",
         "5",
         "film and TV series"
        ],
        [
         "7",
         "We need more boards and to create a bit more space for [NAME]. Then we’ll be good.",
         "8",
         "ef4qmod",
         "JethroBarnes",
         "MkeBucks",
         "2019-01-27",
         "2",
         "sport"
        ],
        [
         "8",
         "Damn youtube and outrage drama is super lucrative for reddit",
         "0",
         "ed8wbdn",
         "whochoosessquirtle",
         "videos",
         "2019-01-04",
         "0",
         "humor"
        ],
        [
         "9",
         "It might be linked to the trust factor of your friend.",
         "27",
         "eczgv1o",
         "stephendt",
         "GlobalOffensive",
         "2019-01-01",
         "6",
         "videogames"
        ],
        [
         "10",
         "Demographics? I don’t know anybody under 35 who has cable tv.",
         "6",
         "eel6g5h",
         "Grizbeard",
         "television",
         "2019-01-21",
         "5",
         "film and TV series"
        ],
        [
         "11",
         "Aww... she'll probably come around eventually, I'm sure she was just jealous of [NAME]... I mean, what woman wouldn't be! lol ",
         "1",
         "edex4ki",
         "Skeptic07",
         "loveafterlockup",
         "2019-01-06",
         "5",
         "film and TV series"
        ],
        [
         "12",
         "Hello everyone. Im from Toronto as well. Can call and visit in personal if needed.",
         "27",
         "ef83m1s",
         "BitFokAlex",
         "QuadrigaCX",
         "2019-01-29",
         "1",
         "other"
        ],
        [
         "13",
         "R/sleeptrain Might be time for some sleep training. Take a look and try to feel out what's right for your family.",
         "5",
         "efh7xnk",
         "SolidBones",
         "Parenting",
         "2019-01-31",
         "4",
         "love and relationship"
        ],
        [
         "14",
         "[NAME] - same fucking problem, slightly better command of the English language.",
         "3",
         "efdqav7",
         "king_downvote_III",
         "VoteBlue",
         "2019-01-30",
         "3",
         "politics"
        ],
        [
         "15",
         "Shit, I guess I accidentally bought a Pay-Per-View boxing match",
         "3",
         "edivtm3",
         "joeyscheidrolltide",
         "CFB",
         "2019-01-08",
         "2",
         "sport"
        ],
        [
         "16",
         "Thank you friend",
         "15",
         "eeqd04y",
         "Errybody_dothe_Lambo",
         "Denver",
         "2019-01-23",
         "1",
         "other"
        ],
        [
         "17",
         "Fucking coward.",
         "2",
         "edk0z9k",
         "sudormrf-",
         "unitedkingdom",
         "2019-01-08",
         "3",
         "politics"
        ],
        [
         "18",
         "that is what retardation looks like",
         "27",
         "eeb9aft",
         "stabach22",
         "Anticonsumption",
         "2019-01-17",
         "1",
         "other"
        ],
        [
         "19",
         "Maybe that’s what happened to the great white at Houston zoo",
         "6",
         "eczq8zg",
         "Spootyspooty",
         "thalassophobia",
         "2019-01-01",
         "0",
         "humor"
        ],
        [
         "20",
         "I never thought it was at the same moment, but sometimes after [NAME] sacrifice... sounds logical",
         "6",
         "efdlhs1",
         "Nekosama7734",
         "starwarsspeculation",
         "2019-01-30",
         "5",
         "film and TV series"
        ],
        [
         "21",
         "i got a bump and a bald spot. i feel dumb <3",
         "12",
         "ee4tgim",
         "throwawaybreaks",
         "BPD",
         "2019-01-15",
         "4",
         "love and relationship"
        ],
        [
         "22",
         "You are going to do the dishes now",
         "27",
         "ee7it59",
         "NeitherRealOrFalse",
         "INTP",
         "2019-01-16",
         "4",
         "love and relationship"
        ],
        [
         "23",
         "Slowing things down now",
         "27",
         "ed4nz06",
         "DoomsdayLord",
         "drunk",
         "2019-01-03",
         "4",
         "love and relationship"
        ],
        [
         "24",
         "His name has already been released. Just can't post it here.",
         "27",
         "ee18uaj",
         "Geddpeart",
         "nrl",
         "2019-01-14",
         "2",
         "sport"
        ],
        [
         "25",
         "Stupidly stubborn / stubbornly stupid",
         "2",
         "edkh6qo",
         "zobicus",
         "MaliciousCompliance",
         "2019-01-08",
         "0",
         "humor"
        ],
        [
         "26",
         "Mine was apparently [NAME] and the giant peach!",
         "27",
         "edafy84",
         "flarode",
         "TalesFromRetail",
         "2019-01-05",
         "1",
         "other"
        ],
        [
         "27",
         "I miss them being alive",
         "16",
         "ee8mzwa",
         "adethia",
         "greysanatomy",
         "2019-01-17",
         "5",
         "film and TV series"
        ],
        [
         "28",
         "Super, thanks",
         "15",
         "ef462jc",
         "RetiredATLATC",
         "Divorce",
         "2019-01-27",
         "4",
         "love and relationship"
        ],
        [
         "29",
         "A new study just came out from China that it's actually too late.",
         "27",
         "ee62fgk",
         "HatefulEight",
         "science",
         "2019-01-16",
         "3",
         "politics"
        ],
        [
         "30",
         "Troll, bro. They know they're saying stupid shit. The motherfucker does nothing but stink up libertarian subs talking shit",
         "2",
         "eebcbcp",
         "42turds",
         "Anarcho_Capitalism",
         "2019-01-18",
         "3",
         "politics"
        ],
        [
         "31",
         "All sounds possible except the key, I can't see how it was missed in the first search. ",
         "6",
         "ed7wf2c",
         "devildriver77",
         "MakingaMurderer",
         "2019-01-04",
         "3",
         "politics"
        ],
        [
         "32",
         "Your aunt has some damn nerve, though!",
         "27",
         "edmcxu7",
         "Tamalene",
         "JUSTNOFAMILY",
         "2019-01-09",
         "4",
         "love and relationship"
        ],
        [
         "33",
         "Ok, then what the actual fuck is your plan?",
         "2",
         "ee7ujla",
         "forwardpass",
         "LabourUK",
         "2019-01-16",
         "3",
         "politics"
        ],
        [
         "34",
         "What does FPTP have to do with the referendum?",
         "6",
         "edtqqyi",
         "phenomenaldisk",
         "badunitedkingdom",
         "2019-01-11",
         "3",
         "politics"
        ],
        [
         "35",
         "Happy to be able to help.",
         "17",
         "efeu6uo",
         "expatinpa",
         "legaladvice",
         "2019-01-31",
         "1",
         "other"
        ],
        [
         "36",
         "18 is hot but very bland, it's just here this blonde lady who is not as hot as blonde launch.",
         "27",
         "ef81n89",
         "Muffin-zetta",
         "TwoBestFriendsPlay",
         "2019-01-29",
         "5",
         "film and TV series"
        ],
        [
         "37",
         "Famous for his 3-4 Defense",
         "0",
         "ednhqdr",
         "cecilsj",
         "Browns",
         "2019-01-09",
         "2",
         "sport"
        ],
        [
         "38",
         "Pretty sure I’ve seen this. He swings away with the harness he is wearing. Still looks painful but I think he lives",
         "25",
         "ed0i62x",
         "Decapitated_gamer",
         "nononono",
         "2019-01-01",
         "0",
         "humor"
        ],
        [
         "39",
         "When I feel down I listen to music.",
         "27",
         "ed6mn9k",
         "pleasenerfdruids",
         "IncelsWithoutHate",
         "2019-01-03",
         "4",
         "love and relationship"
        ],
        [
         "40",
         "aw, thanks! I appreciate that! ",
         "0",
         "eecj1hh",
         "Lorespinner",
         "ChoosingBeggars",
         "2019-01-18",
         "1",
         "other"
        ],
        [
         "41",
         "Thanks! I love watching him every week",
         "15",
         "eexgn84",
         "TheTallestCheslow",
         "Judaism",
         "2019-01-25",
         "3",
         "politics"
        ],
        [
         "42",
         "I read on a different post that he died shortly after of internal injuries.",
         "16",
         "ed2wzm6",
         "not_the_killing_type",
         "Whatcouldgowrong",
         "2019-01-02",
         "0",
         "humor"
        ],
        [
         "43",
         "Honestly it sounds exhausting being married to him. Maybe it will be better for you in the long run.",
         "27",
         "ef7hdbf",
         "Bee_Hummingbird",
         "breakingmom",
         "2019-01-28",
         "4",
         "love and relationship"
        ],
        [
         "44",
         "It's crazy how far Photoshop has come. Underwater bridges?!! NEVER!!!",
         "7",
         "efanc6t",
         "PUNKROCK_ANARCHY",
         "forwardsfromgrandma",
         "2019-01-29",
         "3",
         "politics"
        ],
        [
         "45",
         "I wouldn't let a sweet potato dictate decisions, ever.",
         "10",
         "eddo15s",
         "devnumpty",
         "polyamory",
         "2019-01-06",
         "4",
         "love and relationship"
        ],
        [
         "46",
         "It's true though. He either gets no shirt and freezes to death or wears a stupid looking butchers cape. I hope he gets something better next season",
         "20",
         "edrbhky",
         "IronLegion52",
         "forhonor",
         "2019-01-10",
         "6",
         "videogames"
        ],
        [
         "47",
         "It's a better option because it's my life and none of your business? Lmfao, who are you",
         "27",
         "ednnkuc",
         "ertswhile",
         "TalesFromYourServer",
         "2019-01-09",
         "1",
         "other"
        ],
        [
         "48",
         "Sack, shaft, and tip. The trifecta. ",
         "27",
         "edly6hm",
         "HuskyNutBuster",
         "houston",
         "2019-01-09",
         "1",
         "other"
        ],
        [
         "49",
         "I know. My question was if they **used** to compete in T5-TTT2.",
         "27",
         "efdj3ai",
         "Creezie",
         "Tekken",
         "2019-01-30",
         "6",
         "videogames"
        ]
       ],
       "shape": {
        "columns": 8,
        "rows": 54263
       }
      },
      "text/html": [
       "<div>\n",
       "<style scoped>\n",
       "    .dataframe tbody tr th:only-of-type {\n",
       "        vertical-align: middle;\n",
       "    }\n",
       "\n",
       "    .dataframe tbody tr th {\n",
       "        vertical-align: top;\n",
       "    }\n",
       "\n",
       "    .dataframe thead th {\n",
       "        text-align: right;\n",
       "    }\n",
       "</style>\n",
       "<table border=\"1\" class=\"dataframe\">\n",
       "  <thead>\n",
       "    <tr style=\"text-align: right;\">\n",
       "      <th></th>\n",
       "      <th>text</th>\n",
       "      <th>labels</th>\n",
       "      <th>id</th>\n",
       "      <th>author</th>\n",
       "      <th>subreddit</th>\n",
       "      <th>created_utc</th>\n",
       "      <th>cluster</th>\n",
       "      <th>topic</th>\n",
       "    </tr>\n",
       "  </thead>\n",
       "  <tbody>\n",
       "    <tr>\n",
       "      <th>0</th>\n",
       "      <td>My favourite food is anything I didn't have to...</td>\n",
       "      <td>27</td>\n",
       "      <td>eebbqej</td>\n",
       "      <td>Rockzilla78</td>\n",
       "      <td>KitchenConfidential</td>\n",
       "      <td>2019-01-18</td>\n",
       "      <td>1</td>\n",
       "      <td>other</td>\n",
       "    </tr>\n",
       "    <tr>\n",
       "      <th>1</th>\n",
       "      <td>Now if he does off himself, everyone will thin...</td>\n",
       "      <td>27</td>\n",
       "      <td>ed00q6i</td>\n",
       "      <td>cocaineluna</td>\n",
       "      <td>morbidquestions</td>\n",
       "      <td>2019-01-01</td>\n",
       "      <td>0</td>\n",
       "      <td>humor</td>\n",
       "    </tr>\n",
       "    <tr>\n",
       "      <th>2</th>\n",
       "      <td>WHY THE FUCK IS BAYLESS ISOING</td>\n",
       "      <td>2</td>\n",
       "      <td>eezlygj</td>\n",
       "      <td>minnesotagoat_</td>\n",
       "      <td>timberwolves</td>\n",
       "      <td>2019-01-26</td>\n",
       "      <td>2</td>\n",
       "      <td>sport</td>\n",
       "    </tr>\n",
       "    <tr>\n",
       "      <th>3</th>\n",
       "      <td>To make her feel threatened</td>\n",
       "      <td>14</td>\n",
       "      <td>ed7ypvh</td>\n",
       "      <td>AlexNic1013</td>\n",
       "      <td>askwomenadvice</td>\n",
       "      <td>2019-01-04</td>\n",
       "      <td>4</td>\n",
       "      <td>love and relationship</td>\n",
       "    </tr>\n",
       "    <tr>\n",
       "      <th>4</th>\n",
       "      <td>Dirty Southern Wankers</td>\n",
       "      <td>3</td>\n",
       "      <td>ed0bdzj</td>\n",
       "      <td>having_a_nap</td>\n",
       "      <td>london</td>\n",
       "      <td>2019-01-01</td>\n",
       "      <td>1</td>\n",
       "      <td>other</td>\n",
       "    </tr>\n",
       "    <tr>\n",
       "      <th>...</th>\n",
       "      <td>...</td>\n",
       "      <td>...</td>\n",
       "      <td>...</td>\n",
       "      <td>...</td>\n",
       "      <td>...</td>\n",
       "      <td>...</td>\n",
       "      <td>...</td>\n",
       "      <td>...</td>\n",
       "    </tr>\n",
       "    <tr>\n",
       "      <th>54258</th>\n",
       "      <td>Thanks. I was diagnosed with BP 1 after the ho...</td>\n",
       "      <td>15</td>\n",
       "      <td>efeeasc</td>\n",
       "      <td>scaredyk4t</td>\n",
       "      <td>bipolar</td>\n",
       "      <td>2019-01-30</td>\n",
       "      <td>4</td>\n",
       "      <td>love and relationship</td>\n",
       "    </tr>\n",
       "    <tr>\n",
       "      <th>54259</th>\n",
       "      <td>Well that makes sense.</td>\n",
       "      <td>4</td>\n",
       "      <td>ef9c7s3</td>\n",
       "      <td>LX_Emergency</td>\n",
       "      <td>ABoringDystopia</td>\n",
       "      <td>2019-01-29</td>\n",
       "      <td>3</td>\n",
       "      <td>politics</td>\n",
       "    </tr>\n",
       "    <tr>\n",
       "      <th>54260</th>\n",
       "      <td>Daddy issues [NAME]</td>\n",
       "      <td>27</td>\n",
       "      <td>efbiugo</td>\n",
       "      <td>your_ex_girlfriend-</td>\n",
       "      <td>SquaredCircle</td>\n",
       "      <td>2019-01-30</td>\n",
       "      <td>5</td>\n",
       "      <td>film and TV series</td>\n",
       "    </tr>\n",
       "    <tr>\n",
       "      <th>54261</th>\n",
       "      <td>So glad I discovered that subreddit a couple m...</td>\n",
       "      <td>0</td>\n",
       "      <td>efbvgp9</td>\n",
       "      <td>Paladin-Arda</td>\n",
       "      <td>AskALiberal</td>\n",
       "      <td>2019-01-30</td>\n",
       "      <td>3</td>\n",
       "      <td>politics</td>\n",
       "    </tr>\n",
       "    <tr>\n",
       "      <th>54262</th>\n",
       "      <td>Had to watch \"Elmo in Grouchland\" one time too...</td>\n",
       "      <td>27</td>\n",
       "      <td>edtjpv6</td>\n",
       "      <td>DorianneGrey</td>\n",
       "      <td>sugarlifestyleforum</td>\n",
       "      <td>2019-01-11</td>\n",
       "      <td>4</td>\n",
       "      <td>love and relationship</td>\n",
       "    </tr>\n",
       "  </tbody>\n",
       "</table>\n",
       "<p>54263 rows × 8 columns</p>\n",
       "</div>"
      ],
      "text/plain": [
       "                                                    text  labels       id  \\\n",
       "0      My favourite food is anything I didn't have to...      27  eebbqej   \n",
       "1      Now if he does off himself, everyone will thin...      27  ed00q6i   \n",
       "2                         WHY THE FUCK IS BAYLESS ISOING       2  eezlygj   \n",
       "3                            To make her feel threatened      14  ed7ypvh   \n",
       "4                                 Dirty Southern Wankers       3  ed0bdzj   \n",
       "...                                                  ...     ...      ...   \n",
       "54258  Thanks. I was diagnosed with BP 1 after the ho...      15  efeeasc   \n",
       "54259                             Well that makes sense.       4  ef9c7s3   \n",
       "54260                                Daddy issues [NAME]      27  efbiugo   \n",
       "54261  So glad I discovered that subreddit a couple m...       0  efbvgp9   \n",
       "54262  Had to watch \"Elmo in Grouchland\" one time too...      27  edtjpv6   \n",
       "\n",
       "                    author            subreddit created_utc  cluster  \\\n",
       "0              Rockzilla78  KitchenConfidential  2019-01-18        1   \n",
       "1              cocaineluna      morbidquestions  2019-01-01        0   \n",
       "2           minnesotagoat_         timberwolves  2019-01-26        2   \n",
       "3              AlexNic1013       askwomenadvice  2019-01-04        4   \n",
       "4             having_a_nap               london  2019-01-01        1   \n",
       "...                    ...                  ...         ...      ...   \n",
       "54258           scaredyk4t              bipolar  2019-01-30        4   \n",
       "54259         LX_Emergency      ABoringDystopia  2019-01-29        3   \n",
       "54260  your_ex_girlfriend-        SquaredCircle  2019-01-30        5   \n",
       "54261         Paladin-Arda          AskALiberal  2019-01-30        3   \n",
       "54262         DorianneGrey  sugarlifestyleforum  2019-01-11        4   \n",
       "\n",
       "                       topic  \n",
       "0                      other  \n",
       "1                      humor  \n",
       "2                      sport  \n",
       "3      love and relationship  \n",
       "4                      other  \n",
       "...                      ...  \n",
       "54258  love and relationship  \n",
       "54259               politics  \n",
       "54260     film and TV series  \n",
       "54261               politics  \n",
       "54262  love and relationship  \n",
       "\n",
       "[54263 rows x 8 columns]"
      ]
     },
     "execution_count": 2,
     "metadata": {},
     "output_type": "execute_result"
    }
   ],
   "source": [
    "dataset = pd.read_csv('data/final_data.csv')\n",
    "dataset"
   ]
  },
  {
   "cell_type": "code",
   "execution_count": 36,
   "id": "778f5482",
   "metadata": {},
   "outputs": [],
   "source": [
    "import torch"
   ]
  },
  {
   "cell_type": "code",
   "execution_count": 37,
   "id": "f1e71c3a",
   "metadata": {},
   "outputs": [
    {
     "name": "stdout",
     "output_type": "stream",
     "text": [
      "Device: cuda\n"
     ]
    }
   ],
   "source": [
    "device = torch.device(\"cuda\" if torch.cuda.is_available() else \"cpu\")\n",
    "print(\"Device:\", device)"
   ]
  },
  {
   "cell_type": "markdown",
   "id": "38397b15",
   "metadata": {},
   "source": [
    "### Train-Validation-Test split"
   ]
  },
  {
   "cell_type": "code",
   "execution_count": 3,
   "id": "edeb4012",
   "metadata": {},
   "outputs": [],
   "source": [
    "from sklearn.model_selection import train_test_split"
   ]
  },
  {
   "cell_type": "code",
   "execution_count": 4,
   "id": "ed536428",
   "metadata": {},
   "outputs": [],
   "source": [
    "X = dataset.drop(columns=['labels'])\n",
    "y = dataset['labels']\n",
    "\n",
    "# split train - test\n",
    "X_train, X_test, y_train, y_test = train_test_split(X, y, test_size=0.2, random_state=42)\n",
    "\n",
    "# split train - validation\n",
    "X_train, X_val, y_train, y_val = train_test_split(X_train, y_train, test_size=0.1, random_state=42) "
   ]
  },
  {
   "cell_type": "code",
   "execution_count": null,
   "id": "7818243f",
   "metadata": {},
   "outputs": [
    {
     "data": {
      "text/plain": [
       "39069"
      ]
     },
     "execution_count": 33,
     "metadata": {},
     "output_type": "execute_result"
    }
   ],
   "source": [
    "# lenght training set\n",
    "len(X_train)"
   ]
  },
  {
   "cell_type": "code",
   "execution_count": 34,
   "id": "5ac5472d",
   "metadata": {},
   "outputs": [
    {
     "data": {
      "text/plain": [
       "4341"
      ]
     },
     "execution_count": 34,
     "metadata": {},
     "output_type": "execute_result"
    }
   ],
   "source": [
    "# lenght validation set\n",
    "len(X_val)"
   ]
  },
  {
   "cell_type": "code",
   "execution_count": 35,
   "id": "e0a8a319",
   "metadata": {},
   "outputs": [
    {
     "data": {
      "text/plain": [
       "10853"
      ]
     },
     "execution_count": 35,
     "metadata": {},
     "output_type": "execute_result"
    }
   ],
   "source": [
    "# lenght testing set\n",
    "len(X_test)"
   ]
  },
  {
   "cell_type": "markdown",
   "id": "fcc3d7d7",
   "metadata": {},
   "source": [
    "### Tokenization"
   ]
  },
  {
   "cell_type": "code",
   "execution_count": 15,
   "id": "45e5b1cc",
   "metadata": {},
   "outputs": [],
   "source": [
    "from transformers import AutoTokenizer"
   ]
  },
  {
   "cell_type": "code",
   "execution_count": 17,
   "id": "294bfa65",
   "metadata": {},
   "outputs": [],
   "source": [
    "model_name = \"monologg/bert-base-cased-goemotions-original\"\n",
    "\n",
    "tokenizer = AutoTokenizer.from_pretrained(model_name)\n",
    "\n",
    "train_encodings = tokenizer(\n",
    "    list(X_train['text']),\n",
    "    truncation=True,\n",
    "    padding=True,\n",
    "    return_tensors='pt'\n",
    ")\n",
    "\n",
    "val_encodings = tokenizer(\n",
    "    list(X_val['text']),\n",
    "    truncation=True,\n",
    "    padding=True,\n",
    "    return_tensors='pt' \n",
    ")\n",
    "\n",
    "test_encodings = tokenizer(\n",
    "    list(X_test['text']),\n",
    "    truncation=True,\n",
    "    padding=True,\n",
    "    return_tensors='pt'\n",
    ")"
   ]
  },
  {
   "cell_type": "code",
   "execution_count": 18,
   "id": "fdcd5716",
   "metadata": {},
   "outputs": [
    {
     "name": "stdout",
     "output_type": "stream",
     "text": [
      "Original: Chicken. Mailman.\n",
      "-------------------------------------------\n",
      "Token IDs: tensor([  101, 18770,   119, 11508,  1399,   119,   102,     0,     0,     0])\n",
      "Attention Mask: tensor([1, 1, 1, 1, 1, 1, 1, 0, 0, 0])\n",
      "-------------------------------------------\n",
      "Tokenizzati: ['[CLS]', 'Chicken', '.', 'Mail', '##man', '.', '[SEP]', '[PAD]', '[PAD]', '[PAD]']\n"
     ]
    }
   ],
   "source": [
    "idx = 0\n",
    "\n",
    "# original\n",
    "print(\"Original:\", X_train.iloc[idx]['text'])\n",
    "\n",
    "print(\"-------------------------------------------\")\n",
    "\n",
    "# token_id and mask\n",
    "print(\"Token IDs:\", train_encodings['input_ids'][idx][:10])\n",
    "print(\"Attention Mask:\", train_encodings['attention_mask'][idx][:10])\n",
    "\n",
    "print(\"-------------------------------------------\")\n",
    "\n",
    "# show tokens\n",
    "tokens = tokenizer.convert_ids_to_tokens(train_encodings['input_ids'][idx])\n",
    "print(\"Tokenizzati:\", tokens[:10])"
   ]
  },
  {
   "cell_type": "markdown",
   "id": "f3ec66f0",
   "metadata": {},
   "source": [
    "### Model"
   ]
  },
  {
   "cell_type": "code",
   "execution_count": 19,
   "id": "9e6c4fbf",
   "metadata": {},
   "outputs": [],
   "source": [
    "from transformers import AutoModelForSequenceClassification"
   ]
  },
  {
   "cell_type": "code",
   "execution_count": 20,
   "id": "19bb7b44",
   "metadata": {},
   "outputs": [],
   "source": [
    "model = AutoModelForSequenceClassification.from_pretrained(model_name)"
   ]
  },
  {
   "cell_type": "code",
   "execution_count": 28,
   "id": "ad52efe4",
   "metadata": {},
   "outputs": [
    {
     "name": "stdout",
     "output_type": "stream",
     "text": [
      "{\n",
      "    \"return_dict\": true,\n",
      "    \"output_hidden_states\": false,\n",
      "    \"output_attentions\": false,\n",
      "    \"torchscript\": false,\n",
      "    \"torch_dtype\": \"float32\",\n",
      "    \"use_bfloat16\": false,\n",
      "    \"tf_legacy_loss\": false,\n",
      "    \"pruned_heads\": {},\n",
      "    \"tie_word_embeddings\": true,\n",
      "    \"chunk_size_feed_forward\": 0,\n",
      "    \"is_encoder_decoder\": false,\n",
      "    \"is_decoder\": false,\n",
      "    \"cross_attention_hidden_size\": null,\n",
      "    \"add_cross_attention\": false,\n",
      "    \"tie_encoder_decoder\": false,\n",
      "    \"max_length\": 20,\n",
      "    \"min_length\": 0,\n",
      "    \"do_sample\": false,\n",
      "    \"early_stopping\": false,\n",
      "    \"num_beams\": 1,\n",
      "    \"num_beam_groups\": 1,\n",
      "    \"diversity_penalty\": 0.0,\n",
      "    \"temperature\": 1.0,\n",
      "    \"top_k\": 50,\n",
      "    \"top_p\": 1.0,\n",
      "    \"typical_p\": 1.0,\n",
      "    \"repetition_penalty\": 1.0,\n",
      "    \"length_penalty\": 1.0,\n",
      "    \"no_repeat_ngram_size\": 0,\n",
      "    \"encoder_no_repeat_ngram_size\": 0,\n",
      "    \"bad_words_ids\": null,\n",
      "    \"num_return_sequences\": 1,\n",
      "    \"output_scores\": false,\n",
      "    \"return_dict_in_generate\": false,\n",
      "    \"forced_bos_token_id\": null,\n",
      "    \"forced_eos_token_id\": null,\n",
      "    \"remove_invalid_values\": false,\n",
      "    \"exponential_decay_length_penalty\": null,\n",
      "    \"suppress_tokens\": null,\n",
      "    \"begin_suppress_tokens\": null,\n",
      "    \"architectures\": [\n",
      "        \"BertForMultiLabelClassification\"\n",
      "    ],\n",
      "    \"finetuning_task\": \"goemotions\",\n",
      "    \"id2label\": {\n",
      "        \"0\": \"admiration\",\n",
      "        \"1\": \"amusement\",\n",
      "        \"10\": \"disapproval\",\n",
      "        \"11\": \"disgust\",\n",
      "        \"12\": \"embarrassment\",\n",
      "        \"13\": \"excitement\",\n",
      "        \"14\": \"fear\",\n",
      "        \"15\": \"gratitude\",\n",
      "        \"16\": \"grief\",\n",
      "        \"17\": \"joy\",\n",
      "        \"18\": \"love\",\n",
      "        \"19\": \"nervousness\",\n",
      "        \"2\": \"anger\",\n",
      "        \"20\": \"optimism\",\n",
      "        \"21\": \"pride\",\n",
      "        \"22\": \"realization\",\n",
      "        \"23\": \"relief\",\n",
      "        \"24\": \"remorse\",\n",
      "        \"25\": \"sadness\",\n",
      "        \"26\": \"surprise\",\n",
      "        \"27\": \"neutral\",\n",
      "        \"3\": \"annoyance\",\n",
      "        \"4\": \"approval\",\n",
      "        \"5\": \"caring\",\n",
      "        \"6\": \"confusion\",\n",
      "        \"7\": \"curiosity\",\n",
      "        \"8\": \"desire\",\n",
      "        \"9\": \"disappointment\"\n",
      "    },\n",
      "    \"label2id\": {\n",
      "        \"admiration\": 0,\n",
      "        \"amusement\": 1,\n",
      "        \"anger\": 2,\n",
      "        \"annoyance\": 3,\n",
      "        \"approval\": 4,\n",
      "        \"caring\": 5,\n",
      "        \"confusion\": 6,\n",
      "        \"curiosity\": 7,\n",
      "        \"desire\": 8,\n",
      "        \"disappointment\": 9,\n",
      "        \"disapproval\": 10,\n",
      "        \"disgust\": 11,\n",
      "        \"embarrassment\": 12,\n",
      "        \"excitement\": 13,\n",
      "        \"fear\": 14,\n",
      "        \"gratitude\": 15,\n",
      "        \"grief\": 16,\n",
      "        \"joy\": 17,\n",
      "        \"love\": 18,\n",
      "        \"nervousness\": 19,\n",
      "        \"neutral\": 27,\n",
      "        \"optimism\": 20,\n",
      "        \"pride\": 21,\n",
      "        \"realization\": 22,\n",
      "        \"relief\": 23,\n",
      "        \"remorse\": 24,\n",
      "        \"sadness\": 25,\n",
      "        \"surprise\": 26\n",
      "    },\n",
      "    \"tokenizer_class\": null,\n",
      "    \"prefix\": null,\n",
      "    \"bos_token_id\": null,\n",
      "    \"pad_token_id\": 0,\n",
      "    \"eos_token_id\": null,\n",
      "    \"sep_token_id\": null,\n",
      "    \"decoder_start_token_id\": null,\n",
      "    \"task_specific_params\": null,\n",
      "    \"problem_type\": null,\n",
      "    \"_name_or_path\": \"monologg/bert-base-cased-goemotions-original\",\n",
      "    \"_attn_implementation_autoset\": true,\n",
      "    \"transformers_version\": \"4.50.0\",\n",
      "    \"model_type\": \"bert\",\n",
      "    \"vocab_size\": 28996,\n",
      "    \"hidden_size\": 768,\n",
      "    \"num_hidden_layers\": 12,\n",
      "    \"num_attention_heads\": 12,\n",
      "    \"hidden_act\": \"gelu\",\n",
      "    \"intermediate_size\": 3072,\n",
      "    \"hidden_dropout_prob\": 0.1,\n",
      "    \"attention_probs_dropout_prob\": 0.1,\n",
      "    \"max_position_embeddings\": 512,\n",
      "    \"type_vocab_size\": 2,\n",
      "    \"initializer_range\": 0.02,\n",
      "    \"layer_norm_eps\": 1e-12,\n",
      "    \"position_embedding_type\": \"absolute\",\n",
      "    \"use_cache\": true,\n",
      "    \"classifier_dropout\": null\n",
      "}\n"
     ]
    }
   ],
   "source": [
    "import json\n",
    "\n",
    "print(json.dumps(model.config.to_dict(), indent=4))"
   ]
  },
  {
   "cell_type": "code",
   "execution_count": 30,
   "id": "c8241218",
   "metadata": {},
   "outputs": [
    {
     "name": "stdout",
     "output_type": "stream",
     "text": [
      "Number of labels: 28\n",
      "------------------------------------------\n",
      "Index 0 -> admiration\n",
      "Index 1 -> amusement\n",
      "Index 2 -> anger\n",
      "Index 3 -> annoyance\n",
      "Index 4 -> approval\n",
      "Index 5 -> caring\n",
      "Index 6 -> confusion\n",
      "Index 7 -> curiosity\n",
      "Index 8 -> desire\n",
      "Index 9 -> disappointment\n",
      "Index 10 -> disapproval\n",
      "Index 11 -> disgust\n",
      "Index 12 -> embarrassment\n",
      "Index 13 -> excitement\n",
      "Index 14 -> fear\n",
      "Index 15 -> gratitude\n",
      "Index 16 -> grief\n",
      "Index 17 -> joy\n",
      "Index 18 -> love\n",
      "Index 19 -> nervousness\n",
      "Index 20 -> optimism\n",
      "Index 21 -> pride\n",
      "Index 22 -> realization\n",
      "Index 23 -> relief\n",
      "Index 24 -> remorse\n",
      "Index 25 -> sadness\n",
      "Index 26 -> surprise\n",
      "Index 27 -> neutral\n"
     ]
    }
   ],
   "source": [
    "print(\"Number of labels:\", model.config.num_labels)\n",
    "print(\"------------------------------------------\")\n",
    "map_labels = model.config.id2label\n",
    "for idx in sorted(map_labels.keys()):\n",
    "    print(f\"Index {idx} -> {map_labels[idx]}\")"
   ]
  },
  {
   "cell_type": "markdown",
   "id": "b26871d2",
   "metadata": {},
   "source": [
    "### Training"
   ]
  },
  {
   "cell_type": "code",
   "execution_count": null,
   "id": "8a6679f2",
   "metadata": {},
   "outputs": [],
   "source": [
    "from transformers import TrainingArguments, Trainer"
   ]
  },
  {
   "cell_type": "code",
   "execution_count": null,
   "id": "140da489",
   "metadata": {},
   "outputs": [],
   "source": [
    "training_args = TrainingArguments(\n",
    "    output_dir=\"./results\",\n",
    "    evaluation_strategy=\"epoch\",\n",
    "    save_strategy=\"epoch\",\n",
    "    learning_rate=2e-5,\n",
    "    per_device_train_batch_size=32, \n",
    "    per_device_eval_batch_size=64,\n",
    "    num_train_epochs=3,\n",
    "    weight_decay=0.01,\n",
    "    load_best_model_at_end=True\n",
    ")\n"
   ]
  }
 ],
 "metadata": {
  "kernelspec": {
   "display_name": "uni_venv",
   "language": "python",
   "name": "python3"
  },
  "language_info": {
   "codemirror_mode": {
    "name": "ipython",
    "version": 3
   },
   "file_extension": ".py",
   "mimetype": "text/x-python",
   "name": "python",
   "nbconvert_exporter": "python",
   "pygments_lexer": "ipython3",
   "version": "3.11.7"
  }
 },
 "nbformat": 4,
 "nbformat_minor": 5
}
