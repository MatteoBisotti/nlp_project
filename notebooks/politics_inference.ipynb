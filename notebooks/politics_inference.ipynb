{
 "cells": [
  {
   "cell_type": "markdown",
   "id": "266eb007",
   "metadata": {},
   "source": [
    "## Politics inference"
   ]
  },
  {
   "cell_type": "code",
   "execution_count": null,
   "id": "b24801a7",
   "metadata": {},
   "outputs": [
    {
     "name": "stderr",
     "output_type": "stream",
     "text": [
      "/home/biso/Uni/corsi/uni_venv/lib/python3.11/site-packages/tqdm/auto.py:21: TqdmWarning: IProgress not found. Please update jupyter and ipywidgets. See https://ipywidgets.readthedocs.io/en/stable/user_install.html\n",
      "  from .autonotebook import tqdm as notebook_tqdm\n"
     ]
    }
   ],
   "source": [
    "import pandas as pd\n",
    "import torch \n",
    "from transformers import AutoTokenizer\n",
    "from transformers import AutoModelForSequenceClassification\n",
    "from torch.utils.data import Dataset, DataLoader\n",
    "from tqdm.auto import tqdm"
   ]
  },
  {
   "cell_type": "code",
   "execution_count": null,
   "id": "41f4fb56",
   "metadata": {},
   "outputs": [
    {
     "data": {
      "text/html": [
       "<div>\n",
       "<style scoped>\n",
       "    .dataframe tbody tr th:only-of-type {\n",
       "        vertical-align: middle;\n",
       "    }\n",
       "\n",
       "    .dataframe tbody tr th {\n",
       "        vertical-align: top;\n",
       "    }\n",
       "\n",
       "    .dataframe thead th {\n",
       "        text-align: right;\n",
       "    }\n",
       "</style>\n",
       "<table border=\"1\" class=\"dataframe\">\n",
       "  <thead>\n",
       "    <tr style=\"text-align: right;\">\n",
       "      <th></th>\n",
       "      <th>text</th>\n",
       "      <th>speaker_party</th>\n",
       "      <th>speaker_role</th>\n",
       "      <th>speaker_name</th>\n",
       "      <th>debate_title</th>\n",
       "      <th>date</th>\n",
       "      <th>year</th>\n",
       "    </tr>\n",
       "  </thead>\n",
       "  <tbody>\n",
       "    <tr>\n",
       "      <th>0</th>\n",
       "      <td>Mr President, it was unexpected, but it is a ...</td>\n",
       "      <td>PPE</td>\n",
       "      <td>MEP</td>\n",
       "      <td>Joseph Daul</td>\n",
       "      <td>Election of the President of the European Parl...</td>\n",
       "      <td>2009-07-14</td>\n",
       "      <td>2009</td>\n",
       "    </tr>\n",
       "    <tr>\n",
       "      <th>1</th>\n",
       "      <td>Mr President, on behalf of our group I would ...</td>\n",
       "      <td>S&amp;D</td>\n",
       "      <td>MEP</td>\n",
       "      <td>Martin Schulz</td>\n",
       "      <td>Election of the President of the European Parl...</td>\n",
       "      <td>2009-07-14</td>\n",
       "      <td>2009</td>\n",
       "    </tr>\n",
       "    <tr>\n",
       "      <th>2</th>\n",
       "      <td>Mr President, first of all congratulations fro...</td>\n",
       "      <td>ALDE</td>\n",
       "      <td>MEP</td>\n",
       "      <td>Guy Verhofstadt</td>\n",
       "      <td>Election of the President of the European Parl...</td>\n",
       "      <td>2009-07-14</td>\n",
       "      <td>2009</td>\n",
       "    </tr>\n",
       "    <tr>\n",
       "      <th>3</th>\n",
       "      <td>Mr President, may I congratulate you on your p...</td>\n",
       "      <td>ECR</td>\n",
       "      <td>MEP</td>\n",
       "      <td>Timothy Kirkhope</td>\n",
       "      <td>Election of the President of the European Parl...</td>\n",
       "      <td>2009-07-14</td>\n",
       "      <td>2009</td>\n",
       "    </tr>\n",
       "    <tr>\n",
       "      <th>4</th>\n",
       "      <td>Mr President, I am pleased that a neighbour f...</td>\n",
       "      <td>GUE/NGL</td>\n",
       "      <td>MEP</td>\n",
       "      <td>Lothar Bisky</td>\n",
       "      <td>Election of the President of the European Parl...</td>\n",
       "      <td>2009-07-14</td>\n",
       "      <td>2009</td>\n",
       "    </tr>\n",
       "    <tr>\n",
       "      <th>...</th>\n",
       "      <td>...</td>\n",
       "      <td>...</td>\n",
       "      <td>...</td>\n",
       "      <td>...</td>\n",
       "      <td>...</td>\n",
       "      <td>...</td>\n",
       "      <td>...</td>\n",
       "    </tr>\n",
       "    <tr>\n",
       "      <th>38765</th>\n",
       "      <td>– Madam President, like the Roma community ac...</td>\n",
       "      <td>GUE/NGL</td>\n",
       "      <td>MEP</td>\n",
       "      <td>Mick Wallace</td>\n",
       "      <td>Segregation and discrimination of Roma childre...</td>\n",
       "      <td>2023-09-14</td>\n",
       "      <td>2023</td>\n",
       "    </tr>\n",
       "    <tr>\n",
       "      <th>38766</th>\n",
       "      <td>– Madam President, I was happy to answer the ...</td>\n",
       "      <td>GUE/NGL</td>\n",
       "      <td>MEP</td>\n",
       "      <td>Clare Daly</td>\n",
       "      <td>Framework for ensuring a secure and sustainabl...</td>\n",
       "      <td>2023-09-14</td>\n",
       "      <td>2023</td>\n",
       "    </tr>\n",
       "    <tr>\n",
       "      <th>38767</th>\n",
       "      <td>on behalf of the PPE Group. – Madam President,...</td>\n",
       "      <td>PPE</td>\n",
       "      <td>MEP</td>\n",
       "      <td>Rainer Wieland</td>\n",
       "      <td>Parliamentarism, European citizenship and demo...</td>\n",
       "      <td>2023-09-14</td>\n",
       "      <td>2023</td>\n",
       "    </tr>\n",
       "    <tr>\n",
       "      <th>38768</th>\n",
       "      <td>– Madam President, I too voted against this f...</td>\n",
       "      <td>GUE/NGL</td>\n",
       "      <td>MEP</td>\n",
       "      <td>Clare Daly</td>\n",
       "      <td>Parliamentarism, European citizenship and demo...</td>\n",
       "      <td>2023-09-14</td>\n",
       "      <td>2023</td>\n",
       "    </tr>\n",
       "    <tr>\n",
       "      <th>38769</th>\n",
       "      <td>– Madam President, I too voted against it as ...</td>\n",
       "      <td>GUE/NGL</td>\n",
       "      <td>MEP</td>\n",
       "      <td>Mick Wallace</td>\n",
       "      <td>Parliamentarism, European citizenship and demo...</td>\n",
       "      <td>2023-09-14</td>\n",
       "      <td>2023</td>\n",
       "    </tr>\n",
       "  </tbody>\n",
       "</table>\n",
       "<p>38770 rows × 7 columns</p>\n",
       "</div>"
      ],
      "text/plain": [
       "                                                    text speaker_party  \\\n",
       "0       Mr President, it was unexpected, but it is a ...           PPE   \n",
       "1       Mr President, on behalf of our group I would ...           S&D   \n",
       "2      Mr President, first of all congratulations fro...          ALDE   \n",
       "3      Mr President, may I congratulate you on your p...           ECR   \n",
       "4       Mr President, I am pleased that a neighbour f...       GUE/NGL   \n",
       "...                                                  ...           ...   \n",
       "38765   – Madam President, like the Roma community ac...       GUE/NGL   \n",
       "38766   – Madam President, I was happy to answer the ...       GUE/NGL   \n",
       "38767  on behalf of the PPE Group. – Madam President,...           PPE   \n",
       "38768   – Madam President, I too voted against this f...       GUE/NGL   \n",
       "38769   – Madam President, I too voted against it as ...       GUE/NGL   \n",
       "\n",
       "      speaker_role      speaker_name  \\\n",
       "0              MEP       Joseph Daul   \n",
       "1              MEP     Martin Schulz   \n",
       "2              MEP   Guy Verhofstadt   \n",
       "3              MEP  Timothy Kirkhope   \n",
       "4              MEP      Lothar Bisky   \n",
       "...            ...               ...   \n",
       "38765          MEP      Mick Wallace   \n",
       "38766          MEP        Clare Daly   \n",
       "38767          MEP    Rainer Wieland   \n",
       "38768          MEP        Clare Daly   \n",
       "38769          MEP      Mick Wallace   \n",
       "\n",
       "                                            debate_title        date  year  \n",
       "0      Election of the President of the European Parl...  2009-07-14  2009  \n",
       "1      Election of the President of the European Parl...  2009-07-14  2009  \n",
       "2      Election of the President of the European Parl...  2009-07-14  2009  \n",
       "3      Election of the President of the European Parl...  2009-07-14  2009  \n",
       "4      Election of the President of the European Parl...  2009-07-14  2009  \n",
       "...                                                  ...         ...   ...  \n",
       "38765  Segregation and discrimination of Roma childre...  2023-09-14  2023  \n",
       "38766  Framework for ensuring a secure and sustainabl...  2023-09-14  2023  \n",
       "38767  Parliamentarism, European citizenship and demo...  2023-09-14  2023  \n",
       "38768  Parliamentarism, European citizenship and demo...  2023-09-14  2023  \n",
       "38769  Parliamentarism, European citizenship and demo...  2023-09-14  2023  \n",
       "\n",
       "[38770 rows x 7 columns]"
      ]
     },
     "execution_count": 2,
     "metadata": {},
     "output_type": "execute_result"
    }
   ],
   "source": [
    "dataset = pd.read_csv(\"../data/politics_texts.csv\")\n",
    "dataset"
   ]
  },
  {
   "cell_type": "code",
   "execution_count": 3,
   "id": "713dbced",
   "metadata": {},
   "outputs": [
    {
     "data": {
      "text/plain": [
       "speaker_party\n",
       "PPE           13733\n",
       "S&D            8326\n",
       "ALDE           3993\n",
       "GUE/NGL        3068\n",
       "Greens/EFA     2987\n",
       "NI             2314\n",
       "ID             2222\n",
       "ECR            2127\n",
       "Name: count, dtype: int64"
      ]
     },
     "execution_count": 3,
     "metadata": {},
     "output_type": "execute_result"
    }
   ],
   "source": [
    "dataset['speaker_party'].value_counts()"
   ]
  },
  {
   "cell_type": "code",
   "execution_count": 4,
   "id": "41013e59",
   "metadata": {},
   "outputs": [
    {
     "name": "stdout",
     "output_type": "stream",
     "text": [
      "Device: cuda\n"
     ]
    }
   ],
   "source": [
    "device = torch.device(\"cuda\" if torch.cuda.is_available() else \"cpu\")\n",
    "print(f\"Device: {device}\")"
   ]
  },
  {
   "cell_type": "code",
   "execution_count": 5,
   "id": "4ece0ddc",
   "metadata": {},
   "outputs": [],
   "source": [
    "model_name = \"roberta-base\"\n",
    "\n",
    "tokenizer = AutoTokenizer.from_pretrained(model_name)\n",
    "\n",
    "new_encodings = tokenizer(\n",
    "    list(dataset['text']), \n",
    "    truncation=True,\n",
    "    padding='max_length',\n",
    "    max_length=512,  \n",
    "    return_tensors=\"pt\"\n",
    ")"
   ]
  },
  {
   "cell_type": "code",
   "execution_count": 6,
   "id": "cbe77f70",
   "metadata": {},
   "outputs": [],
   "source": [
    "class EmotionDatasetInference(Dataset):\n",
    "    def __init__(self, encodings):\n",
    "        self.encodings = encodings\n",
    "\n",
    "    def __getitem__(self, index):\n",
    "        return {key: value[index] for key, value in self.encodings.items()}\n",
    "    \n",
    "    def __len__(self):\n",
    "        return self.encodings['input_ids'].size(0)"
   ]
  },
  {
   "cell_type": "code",
   "execution_count": 7,
   "id": "c8464400",
   "metadata": {},
   "outputs": [],
   "source": [
    "data = EmotionDatasetInference(new_encodings)"
   ]
  },
  {
   "cell_type": "code",
   "execution_count": 8,
   "id": "8b59c41f",
   "metadata": {},
   "outputs": [
    {
     "name": "stdout",
     "output_type": "stream",
     "text": [
      "\n",
      "Sample 0\n",
      "Tokens: ['<s>', 'ĠMr', 'ĠPresident', ',', 'Ġit', 'Ġwas', 'Ġunexpected', ',', 'Ġbut', 'Ġit']\n",
      "\n",
      "Sample 1\n",
      "Tokens: ['<s>', 'ĠMr', 'ĠPresident', ',', 'Ġon', 'Ġbehalf', 'Ġof', 'Ġour', 'Ġgroup', 'ĠI']\n",
      "\n",
      "Sample 2\n",
      "Tokens: ['<s>', 'Mr', 'ĠPresident', ',', 'Ġfirst', 'Ġof', 'Ġall', 'Ġcongratulations', 'Ġfrom', 'Ġthe']\n"
     ]
    }
   ],
   "source": [
    "for i in range(3):\n",
    "    example = data[i]\n",
    "    print(f\"\\nSample {i}\")\n",
    "    print(f\"Tokens: {tokenizer.convert_ids_to_tokens(example['input_ids'][:10])}\")"
   ]
  },
  {
   "cell_type": "code",
   "execution_count": null,
   "id": "cd28019a",
   "metadata": {},
   "outputs": [],
   "source": [
    "save_path = \"../best_model_RoBERTa\""
   ]
  },
  {
   "cell_type": "code",
   "execution_count": 10,
   "id": "fa5246da",
   "metadata": {},
   "outputs": [],
   "source": [
    "emotions = [\n",
    "    \"admiration\", \"amusement\", \"anger\", \"annoyance\", \"approval\",\n",
    "    \"caring\", \"confusion\", \"curiosity\", \"desire\", \"disappointment\",\n",
    "    \"disapproval\", \"disgust\", \"embarrassment\", \"excitement\", \"fear\",\n",
    "    \"gratitude\", \"grief\", \"joy\", \"love\", \"nervousness\", \"optimism\",\n",
    "    \"pride\", \"realization\", \"relief\", \"remorse\", \"sadness\", \"surprise\", \"neutral\"\n",
    "]"
   ]
  },
  {
   "cell_type": "code",
   "execution_count": 11,
   "id": "e77594de",
   "metadata": {},
   "outputs": [
    {
     "data": {
      "text/plain": [
       "28"
      ]
     },
     "execution_count": 11,
     "metadata": {},
     "output_type": "execute_result"
    }
   ],
   "source": [
    "len(emotions)"
   ]
  },
  {
   "cell_type": "code",
   "execution_count": 12,
   "id": "7d594601",
   "metadata": {},
   "outputs": [
    {
     "data": {
      "text/plain": [
       "RobertaForSequenceClassification(\n",
       "  (roberta): RobertaModel(\n",
       "    (embeddings): RobertaEmbeddings(\n",
       "      (word_embeddings): Embedding(50265, 768, padding_idx=1)\n",
       "      (position_embeddings): Embedding(514, 768, padding_idx=1)\n",
       "      (token_type_embeddings): Embedding(1, 768)\n",
       "      (LayerNorm): LayerNorm((768,), eps=1e-05, elementwise_affine=True)\n",
       "      (dropout): Dropout(p=0.1, inplace=False)\n",
       "    )\n",
       "    (encoder): RobertaEncoder(\n",
       "      (layer): ModuleList(\n",
       "        (0-11): 12 x RobertaLayer(\n",
       "          (attention): RobertaAttention(\n",
       "            (self): RobertaSdpaSelfAttention(\n",
       "              (query): Linear(in_features=768, out_features=768, bias=True)\n",
       "              (key): Linear(in_features=768, out_features=768, bias=True)\n",
       "              (value): Linear(in_features=768, out_features=768, bias=True)\n",
       "              (dropout): Dropout(p=0.1, inplace=False)\n",
       "            )\n",
       "            (output): RobertaSelfOutput(\n",
       "              (dense): Linear(in_features=768, out_features=768, bias=True)\n",
       "              (LayerNorm): LayerNorm((768,), eps=1e-05, elementwise_affine=True)\n",
       "              (dropout): Dropout(p=0.1, inplace=False)\n",
       "            )\n",
       "          )\n",
       "          (intermediate): RobertaIntermediate(\n",
       "            (dense): Linear(in_features=768, out_features=3072, bias=True)\n",
       "            (intermediate_act_fn): GELUActivation()\n",
       "          )\n",
       "          (output): RobertaOutput(\n",
       "            (dense): Linear(in_features=3072, out_features=768, bias=True)\n",
       "            (LayerNorm): LayerNorm((768,), eps=1e-05, elementwise_affine=True)\n",
       "            (dropout): Dropout(p=0.1, inplace=False)\n",
       "          )\n",
       "        )\n",
       "      )\n",
       "    )\n",
       "  )\n",
       "  (classifier): RobertaClassificationHead(\n",
       "    (dense): Linear(in_features=768, out_features=768, bias=True)\n",
       "    (dropout): Dropout(p=0.1, inplace=False)\n",
       "    (out_proj): Linear(in_features=768, out_features=28, bias=True)\n",
       "  )\n",
       ")"
      ]
     },
     "execution_count": 12,
     "metadata": {},
     "output_type": "execute_result"
    }
   ],
   "source": [
    "model = AutoModelForSequenceClassification.from_pretrained(save_path)\n",
    "model = model.to(device)\n",
    "model.eval()"
   ]
  },
  {
   "cell_type": "code",
   "execution_count": null,
   "id": "b09f3de5",
   "metadata": {},
   "outputs": [],
   "source": [
    "batch_size = 64\n",
    "test_loader = DataLoader(data, batch_size=batch_size)\n",
    "\n",
    "all_predictions = []\n",
    "\n",
    "with torch.no_grad():\n",
    "    for batch in tqdm(test_loader):\n",
    "        input_ids = batch['input_ids'].to(device)\n",
    "        attention_mask = batch['attention_mask'].to(device)\n",
    "\n",
    "        outputs = model(input_ids=input_ids, attention_mask=attention_mask)\n",
    "        logits = outputs.logits  # [batch_size, num_labels]\n",
    "\n",
    "        probs = torch.sigmoid(logits)  # Multilabel classification\n",
    "        preds = (probs > 0.5).int()\n",
    "\n",
    "        for i in range(preds.size(0)):\n",
    "            if preds[i].sum() == 0:\n",
    "                top_idx = torch.argmax(probs[i]).item()\n",
    "                preds[i, top_idx] = 1\n",
    "\n",
    "        for pred in preds:\n",
    "            labels = [model.config.id2label[idx] for idx in range(pred.size(0)) if pred[idx] == 1]\n",
    "            all_predictions.append(labels)\n",
    "\n",
    "dataset['predicted_emotions'] = all_predictions"
   ]
  },
  {
   "cell_type": "code",
   "execution_count": null,
   "id": "5c2607f0",
   "metadata": {},
   "outputs": [],
   "source": [
    "dataset.to_csv(\"../data/dataset_politics_preds.csv\")"
   ]
  }
 ],
 "metadata": {
  "kernelspec": {
   "display_name": "uni_venv",
   "language": "python",
   "name": "python3"
  },
  "language_info": {
   "codemirror_mode": {
    "name": "ipython",
    "version": 3
   },
   "file_extension": ".py",
   "mimetype": "text/x-python",
   "name": "python",
   "nbconvert_exporter": "python",
   "pygments_lexer": "ipython3",
   "version": "3.11.7"
  }
 },
 "nbformat": 4,
 "nbformat_minor": 5
}
